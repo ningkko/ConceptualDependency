{
 "cells": [
  {
   "cell_type": "markdown",
   "metadata": {},
   "source": [
    "###  Choose 3 or 4 sentences that you both coded as “0” or “purely physical” from the 100 that you sampled."
   ]
  },
  {
   "cell_type": "code",
   "execution_count": 2,
   "metadata": {},
   "outputs": [],
   "source": [
    "import pandas as pd\n",
    "import numpy as np\n",
    "\n",
    "data = pd.read_csv(\"sample_100_if_thoughts.csv\")"
   ]
  },
  {
   "cell_type": "code",
   "execution_count": 12,
   "metadata": {},
   "outputs": [
    {
     "data": {
      "text/html": [
       "<div>\n",
       "<style scoped>\n",
       "    .dataframe tbody tr th:only-of-type {\n",
       "        vertical-align: middle;\n",
       "    }\n",
       "\n",
       "    .dataframe tbody tr th {\n",
       "        vertical-align: top;\n",
       "    }\n",
       "\n",
       "    .dataframe thead th {\n",
       "        text-align: right;\n",
       "    }\n",
       "</style>\n",
       "<table border=\"1\" class=\"dataframe\">\n",
       "  <thead>\n",
       "    <tr style=\"text-align: right;\">\n",
       "      <th></th>\n",
       "      <th>Unnamed: 0</th>\n",
       "      <th>sentence</th>\n",
       "      <th>index</th>\n",
       "      <th>is_thought_nin</th>\n",
       "      <th>is_thought_leo</th>\n",
       "    </tr>\n",
       "  </thead>\n",
       "  <tbody>\n",
       "    <tr>\n",
       "      <th>34</th>\n",
       "      <td>469</td>\n",
       "      <td>The seed is digested by the animal and excrete...</td>\n",
       "      <td>65</td>\n",
       "      <td>0.0</td>\n",
       "      <td>0</td>\n",
       "    </tr>\n",
       "    <tr>\n",
       "      <th>55</th>\n",
       "      <td>409</td>\n",
       "      <td>Some of the vapor condenses onto tiny pieces o...</td>\n",
       "      <td>56</td>\n",
       "      <td>0.0</td>\n",
       "      <td>0</td>\n",
       "    </tr>\n",
       "    <tr>\n",
       "      <th>24</th>\n",
       "      <td>1117</td>\n",
       "      <td>The snow builds up for a very long time.</td>\n",
       "      <td>159</td>\n",
       "      <td>0.0</td>\n",
       "      <td>0</td>\n",
       "    </tr>\n",
       "    <tr>\n",
       "      <th>7</th>\n",
       "      <td>1300</td>\n",
       "      <td>They take in fluids and liquids.</td>\n",
       "      <td>184</td>\n",
       "      <td>0.0</td>\n",
       "      <td>0</td>\n",
       "    </tr>\n",
       "  </tbody>\n",
       "</table>\n",
       "</div>"
      ],
      "text/plain": [
       "    Unnamed: 0                                           sentence  index  \\\n",
       "34         469  The seed is digested by the animal and excrete...     65   \n",
       "55         409  Some of the vapor condenses onto tiny pieces o...     56   \n",
       "24        1117           The snow builds up for a very long time.    159   \n",
       "7         1300                   They take in fluids and liquids.    184   \n",
       "\n",
       "    is_thought_nin  is_thought_leo  \n",
       "34             0.0               0  \n",
       "55             0.0               0  \n",
       "24             0.0               0  \n",
       "7              0.0               0  "
      ]
     },
     "execution_count": 12,
     "metadata": {},
     "output_type": "execute_result"
    }
   ],
   "source": [
    "# choose four purely physically sentences\n",
    "sample = data.sample(4)\n",
    "sample"
   ]
  },
  {
   "cell_type": "code",
   "execution_count": 14,
   "metadata": {},
   "outputs": [
    {
     "name": "stdout",
     "output_type": "stream",
     "text": [
      "The seed is digested by the animal and excreted into a new area.\n",
      "Some of the vapor condenses onto tiny pieces of dust that are floating in the air.\n",
      "The snow builds up for a very long time.\n",
      "They take in fluids and liquids.\n"
     ]
    }
   ],
   "source": [
    "for s in sample['sentence']:\n",
    "    print(s)"
   ]
  },
  {
   "cell_type": "markdown",
   "metadata": {},
   "source": [
    "Describe the primitive physical acts that occur as well as the part/whole and spatial relationships.\n",
    "\n",
    "### The seed is digested by the animal and excreted into a new area.\n",
    "Primitive physical act 1: **digest**\\\n",
    "actor: the animal\\\n",
    "object: seed \\\n",
    "from: unknown\\\n",
    "to: a new area\n",
    "\n",
    "Primitive physical act 2: **excrete**\\\n",
    "actor: the animal\\\n",
    "object: seed \\\n",
    "from: the animal\\\n",
    "to: a new area\n",
    "\n",
    "### Some of the vapor condenses onto tiny pieces of dust that are floating in the air.\n",
    "Primitive physical act 1: **condense**\\\n",
    "actor: vapor\\\n",
    "object: None\\\n",
    "from: unknown\\\n",
    "to: unknown\n",
    "\n",
    "Primitive physical act 2: **float**\\\n",
    "actor: dust\\\n",
    "object: None\\ \n",
    "from: the air\\ \n",
    "to: the air\n",
    "\n",
    "### The snow builds up for a very long time.\n",
    "Primitive physical act: **build up**\\\n",
    "actor: snow\\\n",
    "object: None\\\n",
    "from: unknown\\\n",
    "to: unkown\n",
    "\n",
    "\n",
    "### They take in fluids and liquids.\n",
    "Primitive physical act: **take in**\\\n",
    "actor: unknown\\\n",
    "object: None\\\n",
    "from: outside\\\n",
    "to: inside\n"
   ]
  },
  {
   "cell_type": "markdown",
   "metadata": {},
   "source": [
    "## Try to do it using PTRANS, INGEST, EXPEL, PROPEL, MOVE, GRASP...\n",
    "Conceptual Dependency Primitives: https://www.aclweb.org/anthology/T75-2008.pdf \n",
    "### The seed is digested by the animal and excreted into a new area.\n",
    "Primitive 1: **INGEST**\n",
    "actor: the animal\\\n",
    "object: seed \\\n",
    "from: unknown\\\n",
    "to: a new area\n",
    "\n",
    "Primitive 2: **EXPEL**\\\n",
    "actor: the animal\\\n",
    "object: seed \\\n",
    "from: the animal\\\n",
    "to: a new area\n",
    "\n",
    "### Some of the vapor condenses onto tiny pieces of dust that are floating in the air.\n",
    "Primitive 1: **PBUILD**\\\n",
    "actor: vapor\\\n",
    "*PBUILD did not exist. Here I propose to add it regard to MBUILD. Def(PBUILD): transformation of physical form.*\n",
    "\n",
    "Primitive physical act 2: **PTRANS**\\\n",
    "actor: dust\\\n",
    "object: None\\ \n",
    "from: the air\\ \n",
    "to: the air\n",
    "\n",
    "### The snow builds up for a very long time.\n",
    "Primitive physical act: **PBUILD**\\\n",
    "actor: snow\\\n",
    "\n",
    "### They take in fluids and liquids.\n",
    "Primitive physical act: **INGEST**\\\n",
    "actor: unknown\\\n",
    "object: None\\\n",
    "from: outside\\\n",
    "to: inside\n",
    "\n"
   ]
  },
  {
   "cell_type": "code",
   "execution_count": null,
   "metadata": {},
   "outputs": [],
   "source": []
  }
 ],
 "metadata": {
  "kernelspec": {
   "display_name": "Python 3",
   "language": "python",
   "name": "python3"
  },
  "language_info": {
   "codemirror_mode": {
    "name": "ipython",
    "version": 3
   },
   "file_extension": ".py",
   "mimetype": "text/x-python",
   "name": "python",
   "nbconvert_exporter": "python",
   "pygments_lexer": "ipython3",
   "version": "3.7.6"
  }
 },
 "nbformat": 4,
 "nbformat_minor": 4
}
