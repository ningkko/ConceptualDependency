{
 "cells": [
  {
   "cell_type": "markdown",
   "metadata": {},
   "source": [
    "Take a random sample of 100 of the sentences, and for each one try to determine whether all the events described are physical, or if they involve any sort of planning, goal-setting, wanting, or anything could be described as a thought. \n",
    "\n",
    "For example a sentence like “The animal finds or builds a suitable place to hibernate where they can stay warm and protected.” Involves the rational act of “finding”, so it involves some thought.\n",
    "\n",
    "While a sentence like “Solar radiation reaches Earth's atmosphere.” Is entirely physical."
   ]
  },
  {
   "cell_type": "code",
   "execution_count": 9,
   "metadata": {},
   "outputs": [],
   "source": [
    "import pandas as pd\n",
    "import io\n",
    "import requests\n"
   ]
  },
  {
   "cell_type": "code",
   "execution_count": 10,
   "metadata": {},
   "outputs": [],
   "source": [
    "data=pd.read_csv(\"data/flattened_paragraphs.csv\", index_col=None)"
   ]
  },
  {
   "cell_type": "code",
   "execution_count": 11,
   "metadata": {},
   "outputs": [
    {
     "data": {
      "text/html": [
       "<div>\n",
       "<style scoped>\n",
       "    .dataframe tbody tr th:only-of-type {\n",
       "        vertical-align: middle;\n",
       "    }\n",
       "\n",
       "    .dataframe tbody tr th {\n",
       "        vertical-align: top;\n",
       "    }\n",
       "\n",
       "    .dataframe thead th {\n",
       "        text-align: right;\n",
       "    }\n",
       "</style>\n",
       "<table border=\"1\" class=\"dataframe\">\n",
       "  <thead>\n",
       "    <tr style=\"text-align: right;\">\n",
       "      <th></th>\n",
       "      <th>line_id</th>\n",
       "      <th>paragraphID</th>\n",
       "      <th>sentence ID</th>\n",
       "      <th>topic</th>\n",
       "      <th>prompt</th>\n",
       "      <th>sentence</th>\n",
       "    </tr>\n",
       "  </thead>\n",
       "  <tbody>\n",
       "    <tr>\n",
       "      <th>328</th>\n",
       "      <td>43</td>\n",
       "      <td>140</td>\n",
       "      <td>7</td>\n",
       "      <td>lungs</td>\n",
       "      <td>How do the lungs work?</td>\n",
       "      <td>The lungs expel the carbon dioxide through the...</td>\n",
       "    </tr>\n",
       "    <tr>\n",
       "      <th>386</th>\n",
       "      <td>53</td>\n",
       "      <td>211</td>\n",
       "      <td>1</td>\n",
       "      <td>rain</td>\n",
       "      <td>How does rain occur?</td>\n",
       "      <td>Water droplets in clouds collide.</td>\n",
       "    </tr>\n",
       "    <tr>\n",
       "      <th>2696</th>\n",
       "      <td>395</td>\n",
       "      <td>1066</td>\n",
       "      <td>8</td>\n",
       "      <td>mushroom</td>\n",
       "      <td>Describe the life cycle of a mushroom.</td>\n",
       "      <td>A primordia shoots out of the ground.</td>\n",
       "    </tr>\n",
       "  </tbody>\n",
       "</table>\n",
       "</div>"
      ],
      "text/plain": [
       "      line_id  paragraphID  sentence ID     topic  \\\n",
       "328        43          140            7     lungs   \n",
       "386        53          211            1      rain   \n",
       "2696      395         1066            8  mushroom   \n",
       "\n",
       "                                      prompt  \\\n",
       "328                   How do the lungs work?   \n",
       "386                     How does rain occur?   \n",
       "2696  Describe the life cycle of a mushroom.   \n",
       "\n",
       "                                               sentence  \n",
       "328   The lungs expel the carbon dioxide through the...  \n",
       "386                   Water droplets in clouds collide.  \n",
       "2696              A primordia shoots out of the ground.  "
      ]
     },
     "execution_count": 11,
     "metadata": {},
     "output_type": "execute_result"
    }
   ],
   "source": [
    "sample_100 = data.sample(100)\n",
    "sample_100[:3]"
   ]
  },
  {
   "cell_type": "code",
   "execution_count": 12,
   "metadata": {
    "pycharm": {
     "name": "#%%\n"
    }
   },
   "outputs": [],
   "source": [
    "sample_100.to_csv('sample_100_if_thoughts.csv')"
   ]
  },
  {
   "cell_type": "markdown",
   "metadata": {},
   "source": [
    "### Restructure the sample100 data"
   ]
  },
  {
   "cell_type": "code",
   "execution_count": 13,
   "metadata": {
    "pycharm": {
     "name": "#%%\n"
    }
   },
   "outputs": [],
   "source": [
    "data100 = pd.read_csv(\"data/sample_100_if_thoughts.csv\")"
   ]
  },
  {
   "cell_type": "code",
   "execution_count": 14,
   "metadata": {
    "pycharm": {
     "name": "#%%\n"
    }
   },
   "outputs": [
    {
     "data": {
      "text/html": [
       "<div>\n",
       "<style scoped>\n",
       "    .dataframe tbody tr th:only-of-type {\n",
       "        vertical-align: middle;\n",
       "    }\n",
       "\n",
       "    .dataframe tbody tr th {\n",
       "        vertical-align: top;\n",
       "    }\n",
       "\n",
       "    .dataframe thead th {\n",
       "        text-align: right;\n",
       "    }\n",
       "</style>\n",
       "<table border=\"1\" class=\"dataframe\">\n",
       "  <thead>\n",
       "    <tr style=\"text-align: right;\">\n",
       "      <th></th>\n",
       "      <th>line_id</th>\n",
       "      <th>paragraphID</th>\n",
       "      <th>sentence ID</th>\n",
       "      <th>topic</th>\n",
       "      <th>prompt</th>\n",
       "      <th>sentence</th>\n",
       "      <th>is_thought_nin</th>\n",
       "      <th>is_thought_leo</th>\n",
       "    </tr>\n",
       "  </thead>\n",
       "  <tbody>\n",
       "    <tr>\n",
       "      <th>0</th>\n",
       "      <td>13</td>\n",
       "      <td>37</td>\n",
       "      <td>6</td>\n",
       "      <td>fossil</td>\n",
       "      <td>How are fossils formed?</td>\n",
       "      <td>Fossils are formed.</td>\n",
       "      <td>0.0</td>\n",
       "      <td>0</td>\n",
       "    </tr>\n",
       "    <tr>\n",
       "      <th>1</th>\n",
       "      <td>18</td>\n",
       "      <td>48</td>\n",
       "      <td>8</td>\n",
       "      <td>volcanic eruption</td>\n",
       "      <td>What happens during a vocanic eruption?</td>\n",
       "      <td>Mudslides and ash clouds cause problems after ...</td>\n",
       "      <td>0.0</td>\n",
       "      <td>0</td>\n",
       "    </tr>\n",
       "    <tr>\n",
       "      <th>2</th>\n",
       "      <td>24</td>\n",
       "      <td>58</td>\n",
       "      <td>9</td>\n",
       "      <td>flood</td>\n",
       "      <td>How do floods happen?</td>\n",
       "      <td>The rest of the floodwater evaporates.</td>\n",
       "      <td>0.0</td>\n",
       "      <td>0</td>\n",
       "    </tr>\n",
       "    <tr>\n",
       "      <th>3</th>\n",
       "      <td>25</td>\n",
       "      <td>61</td>\n",
       "      <td>1</td>\n",
       "      <td>sedimentary rock</td>\n",
       "      <td>How does sediment turn into sedimentary rock?</td>\n",
       "      <td>Minerals fill spaces between bits of sediment.</td>\n",
       "      <td>0.0</td>\n",
       "      <td>0</td>\n",
       "    </tr>\n",
       "    <tr>\n",
       "      <th>4</th>\n",
       "      <td>29</td>\n",
       "      <td>69</td>\n",
       "      <td>6</td>\n",
       "      <td>coal</td>\n",
       "      <td>How does coal form?</td>\n",
       "      <td>Pressure caused by sedimentary rocks squeezes ...</td>\n",
       "      <td>0.0</td>\n",
       "      <td>0</td>\n",
       "    </tr>\n",
       "    <tr>\n",
       "      <th>5</th>\n",
       "      <td>31</td>\n",
       "      <td>76</td>\n",
       "      <td>4</td>\n",
       "      <td>sedimentary rock</td>\n",
       "      <td>How does sedimentary rock form?</td>\n",
       "      <td>The layers of sediment are pressed together by...</td>\n",
       "      <td>0.0</td>\n",
       "      <td>0</td>\n",
       "    </tr>\n",
       "    <tr>\n",
       "      <th>6</th>\n",
       "      <td>55</td>\n",
       "      <td>214</td>\n",
       "      <td>2</td>\n",
       "      <td>seed dispersal</td>\n",
       "      <td>How do animals help plants disburse seeds?</td>\n",
       "      <td>Animals eat the fruit.</td>\n",
       "      <td>0.0</td>\n",
       "      <td>1</td>\n",
       "    </tr>\n",
       "    <tr>\n",
       "      <th>7</th>\n",
       "      <td>56</td>\n",
       "      <td>221</td>\n",
       "      <td>3</td>\n",
       "      <td>cloud</td>\n",
       "      <td>How are clouds formed?</td>\n",
       "      <td>Some of the vapor condenses onto tiny pieces o...</td>\n",
       "      <td>0.0</td>\n",
       "      <td>0</td>\n",
       "    </tr>\n",
       "    <tr>\n",
       "      <th>8</th>\n",
       "      <td>62</td>\n",
       "      <td>251</td>\n",
       "      <td>5</td>\n",
       "      <td>tree rings</td>\n",
       "      <td>How do rings form inside the trunk of a tree?</td>\n",
       "      <td>The bark leaves a ring.</td>\n",
       "      <td>0.0</td>\n",
       "      <td>0</td>\n",
       "    </tr>\n",
       "    <tr>\n",
       "      <th>9</th>\n",
       "      <td>65</td>\n",
       "      <td>254</td>\n",
       "      <td>5</td>\n",
       "      <td>seed dispersal</td>\n",
       "      <td>How do plants use animals to help disburse the...</td>\n",
       "      <td>The seed is digested by the animal and excrete...</td>\n",
       "      <td>0.0</td>\n",
       "      <td>0</td>\n",
       "    </tr>\n",
       "  </tbody>\n",
       "</table>\n",
       "</div>"
      ],
      "text/plain": [
       "   line_id  paragraphID  sentence ID              topic  \\\n",
       "0       13           37            6             fossil   \n",
       "1       18           48            8  volcanic eruption   \n",
       "2       24           58            9              flood   \n",
       "3       25           61            1   sedimentary rock   \n",
       "4       29           69            6               coal   \n",
       "5       31           76            4   sedimentary rock   \n",
       "6       55          214            2     seed dispersal   \n",
       "7       56          221            3              cloud   \n",
       "8       62          251            5         tree rings   \n",
       "9       65          254            5     seed dispersal   \n",
       "\n",
       "                                              prompt  \\\n",
       "0                            How are fossils formed?   \n",
       "1            What happens during a vocanic eruption?   \n",
       "2                              How do floods happen?   \n",
       "3      How does sediment turn into sedimentary rock?   \n",
       "4                                How does coal form?   \n",
       "5                    How does sedimentary rock form?   \n",
       "6         How do animals help plants disburse seeds?   \n",
       "7                             How are clouds formed?   \n",
       "8      How do rings form inside the trunk of a tree?   \n",
       "9  How do plants use animals to help disburse the...   \n",
       "\n",
       "                                            sentence  is_thought_nin  \\\n",
       "0                                Fossils are formed.             0.0   \n",
       "1  Mudslides and ash clouds cause problems after ...             0.0   \n",
       "2             The rest of the floodwater evaporates.             0.0   \n",
       "3     Minerals fill spaces between bits of sediment.             0.0   \n",
       "4  Pressure caused by sedimentary rocks squeezes ...             0.0   \n",
       "5  The layers of sediment are pressed together by...             0.0   \n",
       "6                             Animals eat the fruit.             0.0   \n",
       "7  Some of the vapor condenses onto tiny pieces o...             0.0   \n",
       "8                            The bark leaves a ring.             0.0   \n",
       "9  The seed is digested by the animal and excrete...             0.0   \n",
       "\n",
       "   is_thought_leo  \n",
       "0               0  \n",
       "1               0  \n",
       "2               0  \n",
       "3               0  \n",
       "4               0  \n",
       "5               0  \n",
       "6               1  \n",
       "7               0  \n",
       "8               0  \n",
       "9               0  "
      ]
     },
     "execution_count": 14,
     "metadata": {},
     "output_type": "execute_result"
    }
   ],
   "source": [
    "data100[:10]"
   ]
  },
  {
   "cell_type": "code",
   "execution_count": 15,
   "metadata": {
    "pycharm": {
     "name": "#%%\n"
    }
   },
   "outputs": [
    {
     "ename": "KeyError",
     "evalue": "\"['Unnamed: 0' 'index'] not found in axis\"",
     "output_type": "error",
     "traceback": [
      "\u001b[0;31m---------------------------------------------------------------------------\u001b[0m",
      "\u001b[0;31mKeyError\u001b[0m                                  Traceback (most recent call last)",
      "\u001b[0;32m<ipython-input-15-bb70f4850018>\u001b[0m in \u001b[0;36m<module>\u001b[0;34m\u001b[0m\n\u001b[0;32m----> 1\u001b[0;31m \u001b[0mdata100\u001b[0m \u001b[0;34m=\u001b[0m \u001b[0mdata100\u001b[0m\u001b[0;34m.\u001b[0m\u001b[0mdrop\u001b[0m\u001b[0;34m(\u001b[0m\u001b[0;34m[\u001b[0m\u001b[0;34m\"Unnamed: 0\"\u001b[0m\u001b[0;34m,\u001b[0m\u001b[0;34m\"index\"\u001b[0m\u001b[0;34m]\u001b[0m\u001b[0;34m,\u001b[0m\u001b[0maxis\u001b[0m\u001b[0;34m=\u001b[0m\u001b[0;36m1\u001b[0m\u001b[0;34m)\u001b[0m\u001b[0;34m\u001b[0m\u001b[0;34m\u001b[0m\u001b[0m\n\u001b[0m\u001b[1;32m      2\u001b[0m \u001b[0mdata100\u001b[0m\u001b[0;34m[\u001b[0m\u001b[0;34m:\u001b[0m\u001b[0;36m5\u001b[0m\u001b[0;34m]\u001b[0m\u001b[0;34m\u001b[0m\u001b[0;34m\u001b[0m\u001b[0m\n\u001b[1;32m      3\u001b[0m \u001b[0;34m\u001b[0m\u001b[0m\n",
      "\u001b[0;32m/usr/local/Cellar/jupyterlab/2.1.5/libexec/lib/python3.8/site-packages/pandas/core/frame.py\u001b[0m in \u001b[0;36mdrop\u001b[0;34m(self, labels, axis, index, columns, level, inplace, errors)\u001b[0m\n\u001b[1;32m   3988\u001b[0m                 \u001b[0mweight\u001b[0m  \u001b[0;36m1.0\u001b[0m     \u001b[0;36m0.8\u001b[0m\u001b[0;34m\u001b[0m\u001b[0;34m\u001b[0m\u001b[0m\n\u001b[1;32m   3989\u001b[0m         \"\"\"\n\u001b[0;32m-> 3990\u001b[0;31m         return super().drop(\n\u001b[0m\u001b[1;32m   3991\u001b[0m             \u001b[0mlabels\u001b[0m\u001b[0;34m=\u001b[0m\u001b[0mlabels\u001b[0m\u001b[0;34m,\u001b[0m\u001b[0;34m\u001b[0m\u001b[0;34m\u001b[0m\u001b[0m\n\u001b[1;32m   3992\u001b[0m             \u001b[0maxis\u001b[0m\u001b[0;34m=\u001b[0m\u001b[0maxis\u001b[0m\u001b[0;34m,\u001b[0m\u001b[0;34m\u001b[0m\u001b[0;34m\u001b[0m\u001b[0m\n",
      "\u001b[0;32m/usr/local/Cellar/jupyterlab/2.1.5/libexec/lib/python3.8/site-packages/pandas/core/generic.py\u001b[0m in \u001b[0;36mdrop\u001b[0;34m(self, labels, axis, index, columns, level, inplace, errors)\u001b[0m\n\u001b[1;32m   3934\u001b[0m         \u001b[0;32mfor\u001b[0m \u001b[0maxis\u001b[0m\u001b[0;34m,\u001b[0m \u001b[0mlabels\u001b[0m \u001b[0;32min\u001b[0m \u001b[0maxes\u001b[0m\u001b[0;34m.\u001b[0m\u001b[0mitems\u001b[0m\u001b[0;34m(\u001b[0m\u001b[0;34m)\u001b[0m\u001b[0;34m:\u001b[0m\u001b[0;34m\u001b[0m\u001b[0;34m\u001b[0m\u001b[0m\n\u001b[1;32m   3935\u001b[0m             \u001b[0;32mif\u001b[0m \u001b[0mlabels\u001b[0m \u001b[0;32mis\u001b[0m \u001b[0;32mnot\u001b[0m \u001b[0;32mNone\u001b[0m\u001b[0;34m:\u001b[0m\u001b[0;34m\u001b[0m\u001b[0;34m\u001b[0m\u001b[0m\n\u001b[0;32m-> 3936\u001b[0;31m                 \u001b[0mobj\u001b[0m \u001b[0;34m=\u001b[0m \u001b[0mobj\u001b[0m\u001b[0;34m.\u001b[0m\u001b[0m_drop_axis\u001b[0m\u001b[0;34m(\u001b[0m\u001b[0mlabels\u001b[0m\u001b[0;34m,\u001b[0m \u001b[0maxis\u001b[0m\u001b[0;34m,\u001b[0m \u001b[0mlevel\u001b[0m\u001b[0;34m=\u001b[0m\u001b[0mlevel\u001b[0m\u001b[0;34m,\u001b[0m \u001b[0merrors\u001b[0m\u001b[0;34m=\u001b[0m\u001b[0merrors\u001b[0m\u001b[0;34m)\u001b[0m\u001b[0;34m\u001b[0m\u001b[0;34m\u001b[0m\u001b[0m\n\u001b[0m\u001b[1;32m   3937\u001b[0m \u001b[0;34m\u001b[0m\u001b[0m\n\u001b[1;32m   3938\u001b[0m         \u001b[0;32mif\u001b[0m \u001b[0minplace\u001b[0m\u001b[0;34m:\u001b[0m\u001b[0;34m\u001b[0m\u001b[0;34m\u001b[0m\u001b[0m\n",
      "\u001b[0;32m/usr/local/Cellar/jupyterlab/2.1.5/libexec/lib/python3.8/site-packages/pandas/core/generic.py\u001b[0m in \u001b[0;36m_drop_axis\u001b[0;34m(self, labels, axis, level, errors)\u001b[0m\n\u001b[1;32m   3968\u001b[0m                 \u001b[0mnew_axis\u001b[0m \u001b[0;34m=\u001b[0m \u001b[0maxis\u001b[0m\u001b[0;34m.\u001b[0m\u001b[0mdrop\u001b[0m\u001b[0;34m(\u001b[0m\u001b[0mlabels\u001b[0m\u001b[0;34m,\u001b[0m \u001b[0mlevel\u001b[0m\u001b[0;34m=\u001b[0m\u001b[0mlevel\u001b[0m\u001b[0;34m,\u001b[0m \u001b[0merrors\u001b[0m\u001b[0;34m=\u001b[0m\u001b[0merrors\u001b[0m\u001b[0;34m)\u001b[0m\u001b[0;34m\u001b[0m\u001b[0;34m\u001b[0m\u001b[0m\n\u001b[1;32m   3969\u001b[0m             \u001b[0;32melse\u001b[0m\u001b[0;34m:\u001b[0m\u001b[0;34m\u001b[0m\u001b[0;34m\u001b[0m\u001b[0m\n\u001b[0;32m-> 3970\u001b[0;31m                 \u001b[0mnew_axis\u001b[0m \u001b[0;34m=\u001b[0m \u001b[0maxis\u001b[0m\u001b[0;34m.\u001b[0m\u001b[0mdrop\u001b[0m\u001b[0;34m(\u001b[0m\u001b[0mlabels\u001b[0m\u001b[0;34m,\u001b[0m \u001b[0merrors\u001b[0m\u001b[0;34m=\u001b[0m\u001b[0merrors\u001b[0m\u001b[0;34m)\u001b[0m\u001b[0;34m\u001b[0m\u001b[0;34m\u001b[0m\u001b[0m\n\u001b[0m\u001b[1;32m   3971\u001b[0m             \u001b[0mresult\u001b[0m \u001b[0;34m=\u001b[0m \u001b[0mself\u001b[0m\u001b[0;34m.\u001b[0m\u001b[0mreindex\u001b[0m\u001b[0;34m(\u001b[0m\u001b[0;34m**\u001b[0m\u001b[0;34m{\u001b[0m\u001b[0maxis_name\u001b[0m\u001b[0;34m:\u001b[0m \u001b[0mnew_axis\u001b[0m\u001b[0;34m}\u001b[0m\u001b[0;34m)\u001b[0m\u001b[0;34m\u001b[0m\u001b[0;34m\u001b[0m\u001b[0m\n\u001b[1;32m   3972\u001b[0m \u001b[0;34m\u001b[0m\u001b[0m\n",
      "\u001b[0;32m/usr/local/Cellar/jupyterlab/2.1.5/libexec/lib/python3.8/site-packages/pandas/core/indexes/base.py\u001b[0m in \u001b[0;36mdrop\u001b[0;34m(self, labels, errors)\u001b[0m\n\u001b[1;32m   5016\u001b[0m         \u001b[0;32mif\u001b[0m \u001b[0mmask\u001b[0m\u001b[0;34m.\u001b[0m\u001b[0many\u001b[0m\u001b[0;34m(\u001b[0m\u001b[0;34m)\u001b[0m\u001b[0;34m:\u001b[0m\u001b[0;34m\u001b[0m\u001b[0;34m\u001b[0m\u001b[0m\n\u001b[1;32m   5017\u001b[0m             \u001b[0;32mif\u001b[0m \u001b[0merrors\u001b[0m \u001b[0;34m!=\u001b[0m \u001b[0;34m\"ignore\"\u001b[0m\u001b[0;34m:\u001b[0m\u001b[0;34m\u001b[0m\u001b[0;34m\u001b[0m\u001b[0m\n\u001b[0;32m-> 5018\u001b[0;31m                 \u001b[0;32mraise\u001b[0m \u001b[0mKeyError\u001b[0m\u001b[0;34m(\u001b[0m\u001b[0;34mf\"{labels[mask]} not found in axis\"\u001b[0m\u001b[0;34m)\u001b[0m\u001b[0;34m\u001b[0m\u001b[0;34m\u001b[0m\u001b[0m\n\u001b[0m\u001b[1;32m   5019\u001b[0m             \u001b[0mindexer\u001b[0m \u001b[0;34m=\u001b[0m \u001b[0mindexer\u001b[0m\u001b[0;34m[\u001b[0m\u001b[0;34m~\u001b[0m\u001b[0mmask\u001b[0m\u001b[0;34m]\u001b[0m\u001b[0;34m\u001b[0m\u001b[0;34m\u001b[0m\u001b[0m\n\u001b[1;32m   5020\u001b[0m         \u001b[0;32mreturn\u001b[0m \u001b[0mself\u001b[0m\u001b[0;34m.\u001b[0m\u001b[0mdelete\u001b[0m\u001b[0;34m(\u001b[0m\u001b[0mindexer\u001b[0m\u001b[0;34m)\u001b[0m\u001b[0;34m\u001b[0m\u001b[0;34m\u001b[0m\u001b[0m\n",
      "\u001b[0;31mKeyError\u001b[0m: \"['Unnamed: 0' 'index'] not found in axis\""
     ]
    }
   ],
   "source": [
    "data100 = data100.drop([\"Unnamed: 0\",\"index\"],axis=1)\n",
    "data100[:5]"
   ]
  },
  {
   "cell_type": "code",
   "execution_count": 16,
   "metadata": {
    "pycharm": {
     "name": "#%%\n"
    }
   },
   "outputs": [],
   "source": [
    "import numpy as np\n",
    "data100[\"is_thought_nin\"] = data100[\"is_thought_nin\"].replace(np.nan, \"0\")"
   ]
  },
  {
   "cell_type": "code",
   "execution_count": 17,
   "metadata": {
    "pycharm": {
     "name": "#%%\n"
    }
   },
   "outputs": [],
   "source": [
    "df_merge = pd.merge(data, data100, on=['sentence']).dropna()"
   ]
  },
  {
   "cell_type": "code",
   "execution_count": 18,
   "metadata": {
    "pycharm": {
     "name": "#%%\n"
    }
   },
   "outputs": [
    {
     "data": {
      "text/html": [
       "<div>\n",
       "<style scoped>\n",
       "    .dataframe tbody tr th:only-of-type {\n",
       "        vertical-align: middle;\n",
       "    }\n",
       "\n",
       "    .dataframe tbody tr th {\n",
       "        vertical-align: top;\n",
       "    }\n",
       "\n",
       "    .dataframe thead th {\n",
       "        text-align: right;\n",
       "    }\n",
       "</style>\n",
       "<table border=\"1\" class=\"dataframe\">\n",
       "  <thead>\n",
       "    <tr style=\"text-align: right;\">\n",
       "      <th></th>\n",
       "      <th>line_id_x</th>\n",
       "      <th>paragraphID_x</th>\n",
       "      <th>sentence ID_x</th>\n",
       "      <th>topic_x</th>\n",
       "      <th>prompt_x</th>\n",
       "      <th>sentence</th>\n",
       "      <th>line_id_y</th>\n",
       "      <th>paragraphID_y</th>\n",
       "      <th>sentence ID_y</th>\n",
       "      <th>topic_y</th>\n",
       "      <th>prompt_y</th>\n",
       "      <th>is_thought_nin</th>\n",
       "      <th>is_thought_leo</th>\n",
       "    </tr>\n",
       "  </thead>\n",
       "  <tbody>\n",
       "    <tr>\n",
       "      <th>0</th>\n",
       "      <td>13</td>\n",
       "      <td>37</td>\n",
       "      <td>6</td>\n",
       "      <td>fossil</td>\n",
       "      <td>How are fossils formed?</td>\n",
       "      <td>Fossils are formed.</td>\n",
       "      <td>13</td>\n",
       "      <td>37</td>\n",
       "      <td>6</td>\n",
       "      <td>fossil</td>\n",
       "      <td>How are fossils formed?</td>\n",
       "      <td>0.0</td>\n",
       "      <td>0</td>\n",
       "    </tr>\n",
       "    <tr>\n",
       "      <th>1</th>\n",
       "      <td>18</td>\n",
       "      <td>48</td>\n",
       "      <td>8</td>\n",
       "      <td>volcanic eruption</td>\n",
       "      <td>What happens during a vocanic eruption?</td>\n",
       "      <td>Mudslides and ash clouds cause problems after ...</td>\n",
       "      <td>18</td>\n",
       "      <td>48</td>\n",
       "      <td>8</td>\n",
       "      <td>volcanic eruption</td>\n",
       "      <td>What happens during a vocanic eruption?</td>\n",
       "      <td>0.0</td>\n",
       "      <td>0</td>\n",
       "    </tr>\n",
       "    <tr>\n",
       "      <th>2</th>\n",
       "      <td>24</td>\n",
       "      <td>58</td>\n",
       "      <td>9</td>\n",
       "      <td>flood</td>\n",
       "      <td>How do floods happen?</td>\n",
       "      <td>The rest of the floodwater evaporates.</td>\n",
       "      <td>24</td>\n",
       "      <td>58</td>\n",
       "      <td>9</td>\n",
       "      <td>flood</td>\n",
       "      <td>How do floods happen?</td>\n",
       "      <td>0.0</td>\n",
       "      <td>0</td>\n",
       "    </tr>\n",
       "    <tr>\n",
       "      <th>3</th>\n",
       "      <td>25</td>\n",
       "      <td>61</td>\n",
       "      <td>1</td>\n",
       "      <td>sedimentary rock</td>\n",
       "      <td>How does sediment turn into sedimentary rock?</td>\n",
       "      <td>Minerals fill spaces between bits of sediment.</td>\n",
       "      <td>25</td>\n",
       "      <td>61</td>\n",
       "      <td>1</td>\n",
       "      <td>sedimentary rock</td>\n",
       "      <td>How does sediment turn into sedimentary rock?</td>\n",
       "      <td>0.0</td>\n",
       "      <td>0</td>\n",
       "    </tr>\n",
       "    <tr>\n",
       "      <th>4</th>\n",
       "      <td>29</td>\n",
       "      <td>69</td>\n",
       "      <td>6</td>\n",
       "      <td>coal</td>\n",
       "      <td>How does coal form?</td>\n",
       "      <td>Pressure caused by sedimentary rocks squeezes ...</td>\n",
       "      <td>29</td>\n",
       "      <td>69</td>\n",
       "      <td>6</td>\n",
       "      <td>coal</td>\n",
       "      <td>How does coal form?</td>\n",
       "      <td>0.0</td>\n",
       "      <td>0</td>\n",
       "    </tr>\n",
       "  </tbody>\n",
       "</table>\n",
       "</div>"
      ],
      "text/plain": [
       "   line_id_x  paragraphID_x  sentence ID_x            topic_x  \\\n",
       "0         13             37              6             fossil   \n",
       "1         18             48              8  volcanic eruption   \n",
       "2         24             58              9              flood   \n",
       "3         25             61              1   sedimentary rock   \n",
       "4         29             69              6               coal   \n",
       "\n",
       "                                        prompt_x  \\\n",
       "0                        How are fossils formed?   \n",
       "1        What happens during a vocanic eruption?   \n",
       "2                          How do floods happen?   \n",
       "3  How does sediment turn into sedimentary rock?   \n",
       "4                            How does coal form?   \n",
       "\n",
       "                                            sentence  line_id_y  \\\n",
       "0                                Fossils are formed.         13   \n",
       "1  Mudslides and ash clouds cause problems after ...         18   \n",
       "2             The rest of the floodwater evaporates.         24   \n",
       "3     Minerals fill spaces between bits of sediment.         25   \n",
       "4  Pressure caused by sedimentary rocks squeezes ...         29   \n",
       "\n",
       "   paragraphID_y  sentence ID_y            topic_y  \\\n",
       "0             37              6             fossil   \n",
       "1             48              8  volcanic eruption   \n",
       "2             58              9              flood   \n",
       "3             61              1   sedimentary rock   \n",
       "4             69              6               coal   \n",
       "\n",
       "                                        prompt_y  is_thought_nin  \\\n",
       "0                        How are fossils formed?             0.0   \n",
       "1        What happens during a vocanic eruption?             0.0   \n",
       "2                          How do floods happen?             0.0   \n",
       "3  How does sediment turn into sedimentary rock?             0.0   \n",
       "4                            How does coal form?             0.0   \n",
       "\n",
       "   is_thought_leo  \n",
       "0               0  \n",
       "1               0  \n",
       "2               0  \n",
       "3               0  \n",
       "4               0  "
      ]
     },
     "execution_count": 18,
     "metadata": {},
     "output_type": "execute_result"
    }
   ],
   "source": [
    "df_merge[:5]"
   ]
  },
  {
   "cell_type": "code",
   "execution_count": null,
   "metadata": {
    "pycharm": {
     "name": "#%%\n"
    }
   },
   "outputs": [],
   "source": [
    "df_merge.to_csv(\"data/sample_100_if_thoughts.csv\", index=False)"
   ]
  },
  {
   "cell_type": "markdown",
   "metadata": {},
   "source": [
    "## Filter out pure physical sentences from the size-100 sample"
   ]
  },
  {
   "cell_type": "code",
   "execution_count": 19,
   "metadata": {
    "pycharm": {
     "name": "#%%\n"
    }
   },
   "outputs": [],
   "source": [
    "df_merge = df_merge[df_merge.is_thought_leo == 0]\n",
    "df_merge = df_merge[df_merge.is_thought_nin == 0]"
   ]
  },
  {
   "cell_type": "code",
   "execution_count": null,
   "metadata": {
    "pycharm": {
     "name": "#%%\n"
    }
   },
   "outputs": [],
   "source": [
    "df_merge.to_csv(\"data/sample100_pure_physical.csv\", index=False)"
   ]
  },
  {
   "cell_type": "markdown",
   "metadata": {},
   "source": [
    "## Extract verbs for these sentences"
   ]
  },
  {
   "cell_type": "code",
   "execution_count": 20,
   "metadata": {
    "pycharm": {
     "name": "#%%\n"
    }
   },
   "outputs": [],
   "source": [
    "import pandas as pd\n",
    "pure_phy_df = pd.read_csv('data/sample100_pure_physical.csv')"
   ]
  },
  {
   "cell_type": "code",
   "execution_count": 21,
   "metadata": {
    "pycharm": {
     "name": "#%%\n"
    }
   },
   "outputs": [
    {
     "data": {
      "text/plain": [
       "0                                   Fossils are formed.\n",
       "1     Mudslides and ash clouds cause problems after ...\n",
       "2                The rest of the floodwater evaporates.\n",
       "3        Minerals fill spaces between bits of sediment.\n",
       "4     Pressure caused by sedimentary rocks squeezes ...\n",
       "                            ...                        \n",
       "60         When rain goes into soil it creates an acid.\n",
       "61    Formation occurs when the star runs out of hyd...\n",
       "62    Radioisotopes would like to be stable isotopes...\n",
       "63                  The liver converts ammonia to urea.\n",
       "64                                  The scab falls off.\n",
       "Name: sentence, Length: 65, dtype: object"
      ]
     },
     "execution_count": 21,
     "metadata": {},
     "output_type": "execute_result"
    }
   ],
   "source": [
    "pure_phy_df[\"sentence\"]"
   ]
  },
  {
   "cell_type": "code",
   "execution_count": 25,
   "metadata": {
    "pycharm": {
     "name": "#%%\n"
    }
   },
   "outputs": [
    {
     "ename": "ModuleNotFoundError",
     "evalue": "No module named 'stanza'",
     "output_type": "error",
     "traceback": [
      "\u001b[0;31m---------------------------------------------------------------------------\u001b[0m",
      "\u001b[0;31mModuleNotFoundError\u001b[0m                       Traceback (most recent call last)",
      "\u001b[0;32m<ipython-input-25-50e0f9192292>\u001b[0m in \u001b[0;36m<module>\u001b[0;34m\u001b[0m\n\u001b[0;32m----> 1\u001b[0;31m \u001b[0;32mimport\u001b[0m \u001b[0mstanza\u001b[0m\u001b[0;34m\u001b[0m\u001b[0;34m\u001b[0m\u001b[0m\n\u001b[0m",
      "\u001b[0;31mModuleNotFoundError\u001b[0m: No module named 'stanza'"
     ]
    }
   ],
   "source": [
    "import stanza\n"
   ]
  },
  {
   "cell_type": "code",
   "execution_count": null,
   "metadata": {
    "pycharm": {
     "name": "#%%\n"
    }
   },
   "outputs": [],
   "source": []
  },
  {
   "cell_type": "code",
   "execution_count": 22,
   "metadata": {
    "pycharm": {
     "name": "#%%\n"
    }
   },
   "outputs": [],
   "source": []
  },
  {
   "cell_type": "code",
   "execution_count": 22,
   "metadata": {
    "pycharm": {
     "name": "#%%\n"
    }
   },
   "outputs": [],
   "source": []
  },
  {
   "cell_type": "code",
   "execution_count": null,
   "metadata": {
    "pycharm": {
     "name": "#%%\n"
    }
   },
   "outputs": [],
   "source": [
    "\n"
   ]
  },
  {
   "cell_type": "markdown",
   "metadata": {},
   "source": [
    "### Restructure the sample100 data"
   ]
  },
  {
   "cell_type": "code",
   "execution_count": 28,
   "metadata": {},
   "outputs": [],
   "source": [
    "data100 = pd.read_csv(\"data/sample_100_if_thoughts.csv\")"
   ]
  },
  {
   "cell_type": "code",
   "execution_count": 29,
   "metadata": {},
   "outputs": [
    {
     "data": {
      "text/html": [
       "<div>\n",
       "<style scoped>\n",
       "    .dataframe tbody tr th:only-of-type {\n",
       "        vertical-align: middle;\n",
       "    }\n",
       "\n",
       "    .dataframe tbody tr th {\n",
       "        vertical-align: top;\n",
       "    }\n",
       "\n",
       "    .dataframe thead th {\n",
       "        text-align: right;\n",
       "    }\n",
       "</style>\n",
       "<table border=\"1\" class=\"dataframe\">\n",
       "  <thead>\n",
       "    <tr style=\"text-align: right;\">\n",
       "      <th></th>\n",
       "      <th>Unnamed: 0</th>\n",
       "      <th>sentence</th>\n",
       "      <th>index</th>\n",
       "      <th>is_thought_nin</th>\n",
       "      <th>is_thought_leo</th>\n",
       "    </tr>\n",
       "  </thead>\n",
       "  <tbody>\n",
       "    <tr>\n",
       "      <th>0</th>\n",
       "      <td>938</td>\n",
       "      <td>Living things die.</td>\n",
       "      <td>135</td>\n",
       "      <td>0.0</td>\n",
       "      <td>0</td>\n",
       "    </tr>\n",
       "    <tr>\n",
       "      <th>1</th>\n",
       "      <td>2287</td>\n",
       "      <td>The resulting information is interpreted by th...</td>\n",
       "      <td>330</td>\n",
       "      <td>1.0</td>\n",
       "      <td>1</td>\n",
       "    </tr>\n",
       "    <tr>\n",
       "      <th>2</th>\n",
       "      <td>564</td>\n",
       "      <td>Balance your body as you roll on the skateboard.</td>\n",
       "      <td>79</td>\n",
       "      <td>1.0</td>\n",
       "      <td>1</td>\n",
       "    </tr>\n",
       "    <tr>\n",
       "      <th>3</th>\n",
       "      <td>640</td>\n",
       "      <td>Acid rain enters the atmosphere and lands.</td>\n",
       "      <td>91</td>\n",
       "      <td>0.0</td>\n",
       "      <td>0</td>\n",
       "    </tr>\n",
       "    <tr>\n",
       "      <th>4</th>\n",
       "      <td>492</td>\n",
       "      <td>The materials are purchased by manufacturers.</td>\n",
       "      <td>68</td>\n",
       "      <td>1.0</td>\n",
       "      <td>1</td>\n",
       "    </tr>\n",
       "    <tr>\n",
       "      <th>5</th>\n",
       "      <td>2628</td>\n",
       "      <td>Only wanted elements are passed to within the ...</td>\n",
       "      <td>386</td>\n",
       "      <td>1.0</td>\n",
       "      <td>0</td>\n",
       "    </tr>\n",
       "    <tr>\n",
       "      <th>6</th>\n",
       "      <td>3244</td>\n",
       "      <td>The grinder is activated.</td>\n",
       "      <td>479</td>\n",
       "      <td>0.0</td>\n",
       "      <td>1</td>\n",
       "    </tr>\n",
       "    <tr>\n",
       "      <th>7</th>\n",
       "      <td>1300</td>\n",
       "      <td>They take in fluids and liquids.</td>\n",
       "      <td>184</td>\n",
       "      <td>0.0</td>\n",
       "      <td>0</td>\n",
       "    </tr>\n",
       "    <tr>\n",
       "      <th>8</th>\n",
       "      <td>2488</td>\n",
       "      <td>Decomposition produces methane.</td>\n",
       "      <td>364</td>\n",
       "      <td>0.0</td>\n",
       "      <td>0</td>\n",
       "    </tr>\n",
       "    <tr>\n",
       "      <th>9</th>\n",
       "      <td>1099</td>\n",
       "      <td>Different parts of the car cause the motion in...</td>\n",
       "      <td>156</td>\n",
       "      <td>0.0</td>\n",
       "      <td>0</td>\n",
       "    </tr>\n",
       "  </tbody>\n",
       "</table>\n",
       "</div>"
      ],
      "text/plain": [
       "   Unnamed: 0                                           sentence  index  \\\n",
       "0         938                                 Living things die.    135   \n",
       "1        2287  The resulting information is interpreted by th...    330   \n",
       "2         564   Balance your body as you roll on the skateboard.     79   \n",
       "3         640         Acid rain enters the atmosphere and lands.     91   \n",
       "4         492      The materials are purchased by manufacturers.     68   \n",
       "5        2628  Only wanted elements are passed to within the ...    386   \n",
       "6        3244                          The grinder is activated.    479   \n",
       "7        1300                   They take in fluids and liquids.    184   \n",
       "8        2488                    Decomposition produces methane.    364   \n",
       "9        1099  Different parts of the car cause the motion in...    156   \n",
       "\n",
       "   is_thought_nin  is_thought_leo  \n",
       "0             0.0               0  \n",
       "1             1.0               1  \n",
       "2             1.0               1  \n",
       "3             0.0               0  \n",
       "4             1.0               1  \n",
       "5             1.0               0  \n",
       "6             0.0               1  \n",
       "7             0.0               0  \n",
       "8             0.0               0  \n",
       "9             0.0               0  "
      ]
     },
     "execution_count": 29,
     "metadata": {},
     "output_type": "execute_result"
    }
   ],
   "source": [
    "data100[:10]"
   ]
  },
  {
   "cell_type": "code",
   "execution_count": 30,
   "metadata": {},
   "outputs": [
    {
     "data": {
      "text/html": [
       "<div>\n",
       "<style scoped>\n",
       "    .dataframe tbody tr th:only-of-type {\n",
       "        vertical-align: middle;\n",
       "    }\n",
       "\n",
       "    .dataframe tbody tr th {\n",
       "        vertical-align: top;\n",
       "    }\n",
       "\n",
       "    .dataframe thead th {\n",
       "        text-align: right;\n",
       "    }\n",
       "</style>\n",
       "<table border=\"1\" class=\"dataframe\">\n",
       "  <thead>\n",
       "    <tr style=\"text-align: right;\">\n",
       "      <th></th>\n",
       "      <th>sentence</th>\n",
       "      <th>is_thought_nin</th>\n",
       "      <th>is_thought_leo</th>\n",
       "    </tr>\n",
       "  </thead>\n",
       "  <tbody>\n",
       "    <tr>\n",
       "      <th>0</th>\n",
       "      <td>Living things die.</td>\n",
       "      <td>0.0</td>\n",
       "      <td>0</td>\n",
       "    </tr>\n",
       "    <tr>\n",
       "      <th>1</th>\n",
       "      <td>The resulting information is interpreted by th...</td>\n",
       "      <td>1.0</td>\n",
       "      <td>1</td>\n",
       "    </tr>\n",
       "    <tr>\n",
       "      <th>2</th>\n",
       "      <td>Balance your body as you roll on the skateboard.</td>\n",
       "      <td>1.0</td>\n",
       "      <td>1</td>\n",
       "    </tr>\n",
       "    <tr>\n",
       "      <th>3</th>\n",
       "      <td>Acid rain enters the atmosphere and lands.</td>\n",
       "      <td>0.0</td>\n",
       "      <td>0</td>\n",
       "    </tr>\n",
       "    <tr>\n",
       "      <th>4</th>\n",
       "      <td>The materials are purchased by manufacturers.</td>\n",
       "      <td>1.0</td>\n",
       "      <td>1</td>\n",
       "    </tr>\n",
       "  </tbody>\n",
       "</table>\n",
       "</div>"
      ],
      "text/plain": [
       "                                            sentence  is_thought_nin  \\\n",
       "0                                 Living things die.             0.0   \n",
       "1  The resulting information is interpreted by th...             1.0   \n",
       "2   Balance your body as you roll on the skateboard.             1.0   \n",
       "3         Acid rain enters the atmosphere and lands.             0.0   \n",
       "4      The materials are purchased by manufacturers.             1.0   \n",
       "\n",
       "   is_thought_leo  \n",
       "0               0  \n",
       "1               1  \n",
       "2               1  \n",
       "3               0  \n",
       "4               1  "
      ]
     },
     "execution_count": 30,
     "metadata": {},
     "output_type": "execute_result"
    }
   ],
   "source": [
    "data100 = data100.drop([\"Unnamed: 0\",\"index\"],axis=1)\n",
    "data100[:5]"
   ]
  },
  {
   "cell_type": "code",
   "execution_count": 33,
   "metadata": {},
   "outputs": [],
   "source": [
    "import numpy as np\n",
    "data100[\"is_thought_nin\"] = data100[\"is_thought_nin\"].replace(np.nan, \"0\")"
   ]
  },
  {
   "cell_type": "code",
   "execution_count": 34,
   "metadata": {},
   "outputs": [],
   "source": [
    "df_merge = pd.merge(data, data100, on=['sentence']).dropna()"
   ]
  },
  {
   "cell_type": "code",
   "execution_count": 35,
   "metadata": {},
   "outputs": [
    {
     "data": {
      "text/html": [
       "<div>\n",
       "<style scoped>\n",
       "    .dataframe tbody tr th:only-of-type {\n",
       "        vertical-align: middle;\n",
       "    }\n",
       "\n",
       "    .dataframe tbody tr th {\n",
       "        vertical-align: top;\n",
       "    }\n",
       "\n",
       "    .dataframe thead th {\n",
       "        text-align: right;\n",
       "    }\n",
       "</style>\n",
       "<table border=\"1\" class=\"dataframe\">\n",
       "  <thead>\n",
       "    <tr style=\"text-align: right;\">\n",
       "      <th></th>\n",
       "      <th>line_id</th>\n",
       "      <th>paragraphID</th>\n",
       "      <th>sentence ID</th>\n",
       "      <th>topic</th>\n",
       "      <th>prompt</th>\n",
       "      <th>sentence</th>\n",
       "      <th>is_thought_nin</th>\n",
       "      <th>is_thought_leo</th>\n",
       "    </tr>\n",
       "  </thead>\n",
       "  <tbody>\n",
       "    <tr>\n",
       "      <th>0</th>\n",
       "      <td>13</td>\n",
       "      <td>37</td>\n",
       "      <td>6</td>\n",
       "      <td>fossil</td>\n",
       "      <td>How are fossils formed?</td>\n",
       "      <td>Fossils are formed.</td>\n",
       "      <td>0</td>\n",
       "      <td>0</td>\n",
       "    </tr>\n",
       "    <tr>\n",
       "      <th>1</th>\n",
       "      <td>18</td>\n",
       "      <td>48</td>\n",
       "      <td>8</td>\n",
       "      <td>volcanic eruption</td>\n",
       "      <td>What happens during a vocanic eruption?</td>\n",
       "      <td>Mudslides and ash clouds cause problems after ...</td>\n",
       "      <td>0</td>\n",
       "      <td>0</td>\n",
       "    </tr>\n",
       "    <tr>\n",
       "      <th>2</th>\n",
       "      <td>24</td>\n",
       "      <td>58</td>\n",
       "      <td>9</td>\n",
       "      <td>flood</td>\n",
       "      <td>How do floods happen?</td>\n",
       "      <td>The rest of the floodwater evaporates.</td>\n",
       "      <td>0</td>\n",
       "      <td>0</td>\n",
       "    </tr>\n",
       "    <tr>\n",
       "      <th>3</th>\n",
       "      <td>25</td>\n",
       "      <td>61</td>\n",
       "      <td>1</td>\n",
       "      <td>sedimentary rock</td>\n",
       "      <td>How does sediment turn into sedimentary rock?</td>\n",
       "      <td>Minerals fill spaces between bits of sediment.</td>\n",
       "      <td>0</td>\n",
       "      <td>0</td>\n",
       "    </tr>\n",
       "    <tr>\n",
       "      <th>4</th>\n",
       "      <td>29</td>\n",
       "      <td>69</td>\n",
       "      <td>6</td>\n",
       "      <td>coal</td>\n",
       "      <td>How does coal form?</td>\n",
       "      <td>Pressure caused by sedimentary rocks squeezes ...</td>\n",
       "      <td>0</td>\n",
       "      <td>0</td>\n",
       "    </tr>\n",
       "  </tbody>\n",
       "</table>\n",
       "</div>"
      ],
      "text/plain": [
       "   line_id  paragraphID  sentence ID              topic  \\\n",
       "0       13           37            6             fossil   \n",
       "1       18           48            8  volcanic eruption   \n",
       "2       24           58            9              flood   \n",
       "3       25           61            1   sedimentary rock   \n",
       "4       29           69            6               coal   \n",
       "\n",
       "                                          prompt  \\\n",
       "0                        How are fossils formed?   \n",
       "1        What happens during a vocanic eruption?   \n",
       "2                          How do floods happen?   \n",
       "3  How does sediment turn into sedimentary rock?   \n",
       "4                            How does coal form?   \n",
       "\n",
       "                                            sentence is_thought_nin  \\\n",
       "0                                Fossils are formed.              0   \n",
       "1  Mudslides and ash clouds cause problems after ...              0   \n",
       "2             The rest of the floodwater evaporates.              0   \n",
       "3     Minerals fill spaces between bits of sediment.              0   \n",
       "4  Pressure caused by sedimentary rocks squeezes ...              0   \n",
       "\n",
       "   is_thought_leo  \n",
       "0               0  \n",
       "1               0  \n",
       "2               0  \n",
       "3               0  \n",
       "4               0  "
      ]
     },
     "execution_count": 35,
     "metadata": {},
     "output_type": "execute_result"
    }
   ],
   "source": [
    "df_merge[:5]"
   ]
  },
  {
   "cell_type": "code",
   "execution_count": 39,
   "metadata": {},
   "outputs": [],
   "source": [
    "df_merge.to_csv(\"data/sample_100_if_thoughts.csv\", index=False)"
   ]
  },
  {
   "cell_type": "markdown",
   "metadata": {},
   "source": [
    "## Filter out pure physical sentences from the size-100 sample"
   ]
  },
  {
   "cell_type": "code",
   "execution_count": 42,
   "metadata": {},
   "outputs": [],
   "source": [
    "df_merge = df_merge[df_merge.is_thought_leo == 0]\n",
    "df_merge = df_merge[df_merge.is_thought_nin == 0]"
   ]
  },
  {
   "cell_type": "code",
   "execution_count": 44,
   "metadata": {},
   "outputs": [],
   "source": [
    "df_merge.to_csv(\"data/sample100_pure_physical.csv\", index=False)"
   ]
  },
  {
   "cell_type": "markdown",
   "metadata": {},
   "source": [
    "## Extract verbs for these sentences"
   ]
  },
  {
   "cell_type": "code",
   "execution_count": 5,
   "metadata": {},
   "outputs": [],
   "source": [
    "import pandas as pd\n",
    "pure_phy_df = pd.read_csv('data/sample100_pure_physical.csv')"
   ]
  }
 ],
 "metadata": {
  "kernelspec": {
   "display_name": "Python 3",
   "language": "python",
   "name": "python3"
  },
  "language_info": {
   "codemirror_mode": {
    "name": "ipython",
    "version": 3
   },
   "file_extension": ".py",
   "mimetype": "text/x-python",
   "name": "python",
   "nbconvert_exporter": "python",
   "pygments_lexer": "ipython3",
   "version": "3.8.3"
  }
 },
 "nbformat": 4,
 "nbformat_minor": 4
}
